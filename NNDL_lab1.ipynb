{
  "nbformat": 4,
  "nbformat_minor": 0,
  "metadata": {
    "colab": {
      "provenance": [],
      "collapsed_sections": [
        "wFQpu9jQd6d4",
        "SMyxSEOGeBjY",
        "PIj8glX7e0sp"
      ]
    },
    "kernelspec": {
      "name": "python3",
      "display_name": "Python 3"
    },
    "language_info": {
      "name": "python"
    }
  },
  "cells": [
    {
      "cell_type": "code",
      "execution_count": 2,
      "metadata": {
        "id": "8HeHYtjudK8q"
      },
      "outputs": [],
      "source": [
        "import numpy as np\n",
        "import matplotlib.pyplot as plt"
      ]
    },
    {
      "cell_type": "markdown",
      "source": [
        "#LOGISTIC /SIGMOID ACTIVATION FUNCTION"
      ],
      "metadata": {
        "id": "wFQpu9jQd6d4"
      }
    },
    {
      "cell_type": "code",
      "source": [
        "x=np.arange(-10,10,1)\n",
        "z=1/(1+np.exp(-x))\n",
        "\n",
        "print(\" x values \\n\")\n",
        "print(x)\n",
        "\n",
        "print(\" y values \\n\")\n",
        "print(z)\n",
        "print(\"\\n\")\n",
        "plt.plot(x,z)\n",
        "plt.xlabel(\"x\")\n",
        "plt.ylabel(\"LOgistict activation (x)\")\n",
        "plt.show()"
      ],
      "metadata": {
        "colab": {
          "base_uri": "https://localhost:8080/",
          "height": 505
        },
        "id": "f8MwgjDSdXtY",
        "outputId": "302f3fae-31fd-4422-d6a1-2d1e574df663"
      },
      "execution_count": 22,
      "outputs": [
        {
          "output_type": "stream",
          "name": "stdout",
          "text": [
            " x values \n",
            "\n",
            "[-10  -9  -8  -7  -6  -5  -4  -3  -2  -1   0   1   2   3   4   5   6   7\n",
            "   8   9]\n",
            " y values \n",
            "\n",
            "[4.53978687e-05 1.23394576e-04 3.35350130e-04 9.11051194e-04\n",
            " 2.47262316e-03 6.69285092e-03 1.79862100e-02 4.74258732e-02\n",
            " 1.19202922e-01 2.68941421e-01 5.00000000e-01 7.31058579e-01\n",
            " 8.80797078e-01 9.52574127e-01 9.82013790e-01 9.93307149e-01\n",
            " 9.97527377e-01 9.99088949e-01 9.99664650e-01 9.99876605e-01]\n",
            "\n",
            "\n"
          ]
        },
        {
          "output_type": "display_data",
          "data": {
            "text/plain": [
              "<Figure size 432x288 with 1 Axes>"
            ],
            "image/png": "[encoded data removed]"
          },
          "metadata": {
            "needs_background": "light"
          }
        }
      ]
    },
    {
      "cell_type": "markdown",
      "source": [
        "#SIGNUM ACTIVATION FUNCTION"
      ],
      "metadata": {
        "id": "SMyxSEOGeBjY"
      }
    },
    {
      "cell_type": "code",
      "source": [
        "x1=np.arange(-10,10,1)\n",
        "z1 = []\n",
        "\n",
        "for i in x1:\n",
        "  if i < 0:\n",
        "    z1.append(-1)\n",
        "  elif i == 0:\n",
        "    z1.append(0)\n",
        "  else:\n",
        "    z1.append(1)\n",
        "\n",
        "print(\" x values \\n\")\n",
        "print(x1)\n",
        "print(\" y values \\n\")\n",
        "print(z1)\n",
        "print(\"\\n\")\n",
        "plt.plot(z1)\n",
        "plt.xlabel(\"x\")\n",
        "plt.ylabel(\"Signum Activation(x)\")\n",
        "\n",
        "plt.show()"
      ],
      "metadata": {
        "colab": {
          "base_uri": "https://localhost:8080/",
          "height": 435
        },
        "id": "RqWY0JrZji4i",
        "outputId": "b8f6b45b-03fa-456f-d75c-f3e445bda702"
      },
      "execution_count": 23,
      "outputs": [
        {
          "output_type": "stream",
          "name": "stdout",
          "text": [
            " x values \n",
            "\n",
            "[-10  -9  -8  -7  -6  -5  -4  -3  -2  -1   0   1   2   3   4   5   6   7\n",
            "   8   9]\n",
            " y values \n",
            "\n",
            "[-1, -1, -1, -1, -1, -1, -1, -1, -1, -1, 0, 1, 1, 1, 1, 1, 1, 1, 1, 1]\n",
            "\n",
            "\n"
          ]
        },
        {
          "output_type": "display_data",
          "data": {
            "text/plain": [
              "<Figure size 432x288 with 1 Axes>"
            ],
            "image/png": "[encoded data removed]"
          },
          "metadata": {
            "needs_background": "light"
          }
        }
      ]
    },
    {
      "cell_type": "markdown",
      "source": [
        "#LINEAR ACTIVATION FUNCTION"
      ],
      "metadata": {
        "id": "PIj8glX7e0sp"
      }
    },
    {
      "cell_type": "code",
      "source": [
        "x2=np.arange(-10,10,1)\n",
        "z2=x1\n",
        "print(\" x values \\n\")\n",
        "print(x2)\n",
        "\n",
        "print(\" y values \\n\")\n",
        "print(z2)\n",
        "print(\"\\n\")\n",
        "plt.plot(x2,z2)\n",
        "plt.xlabel(\"x\")\n",
        "plt.ylabel(\"Linear activation (x)\")\n",
        "plt.show()"
      ],
      "metadata": {
        "colab": {
          "base_uri": "https://localhost:8080/",
          "height": 453
        },
        "id": "Mu9cFUdGeGTo",
        "outputId": "a308a09a-a285-4155-f03c-34ea699aca86"
      },
      "execution_count": 24,
      "outputs": [
        {
          "output_type": "stream",
          "name": "stdout",
          "text": [
            " x values \n",
            "\n",
            "[-10  -9  -8  -7  -6  -5  -4  -3  -2  -1   0   1   2   3   4   5   6   7\n",
            "   8   9]\n",
            " y values \n",
            "\n",
            "[-10  -9  -8  -7  -6  -5  -4  -3  -2  -1   0   1   2   3   4   5   6   7\n",
            "   8   9]\n",
            "\n",
            "\n"
          ]
        },
        {
          "output_type": "display_data",
          "data": {
            "text/plain": [
              "<Figure size 432x288 with 1 Axes>"
            ],
            "image/png": "[encoded data removed]"
          },
          "metadata": {
            "needs_background": "light"
          }
        }
      ]
    },
    {
      "cell_type": "markdown",
      "source": [
        "#TANH ACTIVATION FUNCTION\n"
      ],
      "metadata": {
        "id": "gsjXtKzmfimA"
      }
    },
    {
      "cell_type": "code",
      "source": [
        "x3=np.arange(-10,10,1)\n",
        "z3=np.tanh(x3)\n",
        "print(\" x values \\n\")\n",
        "print(x3)\n",
        "\n",
        "print(\" y values \\n\")\n",
        "print(z3)\n",
        "print(\"\\n\")\n",
        "plt.plot(x3,z3)\n",
        "plt.xlabel(\"x\")\n",
        "plt.ylabel(\"Tangent activation (x)\")\n",
        "plt.show()"
      ],
      "metadata": {
        "colab": {
          "base_uri": "https://localhost:8080/",
          "height": 487
        },
        "id": "8Zzdb5yXflr1",
        "outputId": "cabff8c2-a35f-4b63-83e1-0000800e036c"
      },
      "execution_count": 25,
      "outputs": [
        {
          "output_type": "stream",
          "name": "stdout",
          "text": [
            " x values \n",
            "\n",
            "[-10  -9  -8  -7  -6  -5  -4  -3  -2  -1   0   1   2   3   4   5   6   7\n",
            "   8   9]\n",
            " y values \n",
            "\n",
            "[-1.         -0.99999997 -0.99999977 -0.99999834 -0.99998771 -0.9999092\n",
            " -0.9993293  -0.99505475 -0.96402758 -0.76159416  0.          0.76159416\n",
            "  0.96402758  0.99505475  0.9993293   0.9999092   0.99998771  0.99999834\n",
            "  0.99999977  0.99999997]\n",
            "\n",
            "\n"
          ]
        },
        {
          "output_type": "display_data",
          "data": {
            "text/plain": [
              "<Figure size 432x288 with 1 Axes>"
            ],
            "image/png": "[encoded data removed]"
          },
          "metadata": {
            "needs_background": "light"
          }
        }
      ]
    },
    {
      "cell_type": "markdown",
      "source": [
        "#HEAVISIDE ACTIVATION FUNCTION\n",
        "step is given as 2 "
      ],
      "metadata": {
        "id": "9XINBX6mf9zY"
      }
    },
    {
      "cell_type": "code",
      "source": [
        "x4=np.arange(-10,10,1)\n",
        "z4=np.heaviside(x4,2)\n",
        "print(\" x values \\n\")\n",
        "print(x4)\n",
        "\n",
        "print(\" y values \\n\")\n",
        "print(z4)\n",
        "print(\"\\n\")\n",
        "plt.plot(x4,z4)\n",
        "plt.xlabel(\"x\")\n",
        "plt.ylabel(\"Heaviside activation (x)\")\n",
        "plt.show()"
      ],
      "metadata": {
        "colab": {
          "base_uri": "https://localhost:8080/",
          "height": 435
        },
        "id": "tvNMrL4UgAM5",
        "outputId": "2037cb67-2bc4-4f51-952a-f95d6965efc0"
      },
      "execution_count": 27,
      "outputs": [
        {
          "output_type": "stream",
          "name": "stdout",
          "text": [
            " x values \n",
            "\n",
            "[-10  -9  -8  -7  -6  -5  -4  -3  -2  -1   0   1   2   3   4   5   6   7\n",
            "   8   9]\n",
            " y values \n",
            "\n",
            "[0. 0. 0. 0. 0. 0. 0. 0. 0. 0. 2. 1. 1. 1. 1. 1. 1. 1. 1. 1.]\n",
            "\n",
            "\n"
          ]
        },
        {
          "output_type": "display_data",
          "data": {
            "text/plain": [
              "<Figure size 432x288 with 1 Axes>"
            ],
            "image/png": "[encoded data removed]"
          },
          "metadata": {
            "needs_background": "light"
          }
        }
      ]
    },
    {
      "cell_type": "markdown",
      "source": [
        "#PIECEWISE ACTIVATION FUNCTION"
      ],
      "metadata": {
        "id": "E9T2kkNYgcdC"
      }
    },
    {
      "cell_type": "code",
      "source": [
        "x5=np.arange(-10,10,1)\n",
        "z5 = []\n",
        "\n",
        "for i in x5:\n",
        "  if i >= 1/2:\n",
        "    z5.append(1)\n",
        "  elif i < 1/2 or i > -1/2:\n",
        "    z5.append(i+(1/2))\n",
        "  else: # i <= - 1/2\n",
        "    z5.append(0)\n",
        "print(\" x values \\n\")\n",
        "print(x5)\n",
        "print(\" y values \\n\")\n",
        "print(z5)\n",
        "\n",
        "plt.xlim((-11,11))\n",
        "plt.ylim((-11,11))\n",
        "print(\"\\n\")\n",
        "plt.plot(z5)\n",
        "plt.xlabel(\"x\")\n",
        "plt.ylabel(\"PieceWiseLinear(x)\")\n",
        "\n",
        "plt.show()"
      ],
      "metadata": {
        "colab": {
          "base_uri": "https://localhost:8080/",
          "height": 435
        },
        "id": "uVHijkvBghfo",
        "outputId": "5e5576c6-b253-4c45-bc55-2aa3c6015db1"
      },
      "execution_count": 30,
      "outputs": [
        {
          "output_type": "stream",
          "name": "stdout",
          "text": [
            " x values \n",
            "\n",
            "[-10  -9  -8  -7  -6  -5  -4  -3  -2  -1   0   1   2   3   4   5   6   7\n",
            "   8   9]\n",
            " y values \n",
            "\n",
            "[-9.5, -8.5, -7.5, -6.5, -5.5, -4.5, -3.5, -2.5, -1.5, -0.5, 0.5, 1, 1, 1, 1, 1, 1, 1, 1, 1]\n",
            "\n",
            "\n"
          ]
        },
        {
          "output_type": "display_data",
          "data": {
            "text/plain": [
              "<Figure size 432x288 with 1 Axes>"
            ],
            "image/png": "[encoded data removed]"
          },
          "metadata": {
            "needs_background": "light"
          }
        }
      ]
    },
    {
      "cell_type": "code",
      "source": [],
      "metadata": {
        "id": "g7sut6eioIoJ"
      },
      "execution_count": null,
      "outputs": []
    }
  ]
}