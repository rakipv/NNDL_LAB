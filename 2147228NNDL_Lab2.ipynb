{
  "nbformat": 4,
  "nbformat_minor": 0,
  "metadata": {
    "colab": {
      "provenance": []
    },
    "kernelspec": {
      "name": "python3",
      "display_name": "Python 3"
    },
    "language_info": {
      "name": "python"
    }
  },
  "cells": [
    {
      "cell_type": "code",
      "execution_count": null,
      "metadata": {
        "id": "xDcC90wYz934"
      },
      "outputs": [],
      "source": [
        "inputdata=[[0,0],[0,1],[1,0],[1,1]]\n",
        "w1=1.5\n",
        "w2=0.5\n",
        "w0 =-0.5\n"
      ]
    },
    {
      "cell_type": "code",
      "source": [
        "def andOpration(list1)->list:\n",
        "  li=[]\n",
        "  for i in list1:\n",
        "    li.append(i[0]*i[1])\n",
        "  return li\n",
        "\n",
        "def orOpration(list1)->list:\n",
        "  li=[]\n",
        "  for i in list1:\n",
        "    li.append(i[0]+i[1] if i[0]+i[1]!=2 else 1)\n",
        "  return li  \n",
        "\n",
        "def xorOperation(list1)->list:\n",
        "  li=[]\n",
        "  for i in list1:\n",
        "    li.append(1 if i.count(0)==1 and i.count(1)==1 else 0)\n",
        "  return li\n",
        "\n",
        "print(andOpration(inputdata))  \n",
        "print(orOpration(inputdata))\n",
        "print(xorOperation(inputdata))\n",
        "\n",
        "\n",
        "    \n",
        "\n"
      ],
      "metadata": {
        "colab": {
          "base_uri": "https://localhost:8080/"
        },
        "id": "b791FHnV4Oj0",
        "outputId": "090c40e8-004d-494a-f0f3-224c2d8b61e2"
      },
      "execution_count": null,
      "outputs": [
        {
          "output_type": "stream",
          "name": "stdout",
          "text": [
            "[0, 0, 0, 1]\n",
            "[0, 1, 1, 1]\n",
            "[0, 1, 1, 0]\n"
          ]
        }
      ]
    },
    {
      "cell_type": "code",
      "source": [
        "output=[]\n",
        "for i in inputdata:\n",
        "  output.append((i[0]*w1)+(i[1]*w2)+w0)\n",
        "print(output)  \n"
      ],
      "metadata": {
        "id": "HQEO6bww2eOs",
        "colab": {
          "base_uri": "https://localhost:8080/"
        },
        "outputId": "640b77e6-69e8-4ac5-fef7-3dc7c13b258b"
      },
      "execution_count": null,
      "outputs": [
        {
          "output_type": "stream",
          "name": "stdout",
          "text": [
            "[-0.5, 0.0, 1.0, 1.5]\n"
          ]
        }
      ]
    },
    {
      "cell_type": "markdown",
      "source": [
        "Error in AND"
      ],
      "metadata": {
        "id": "fjCUBmW-7VsJ"
      }
    },
    {
      "cell_type": "code",
      "source": [
        "andlist=andOpration(inputdata)\n",
        "error=0\n",
        "for i in range(len(andOpration(inputdata))):\n",
        "  print(f\"{andlist[i]}- {output[i]}\")\n",
        "  error+=andlist[i]-output[i]\n",
        "print(f\"Error is {error}\")  "
      ],
      "metadata": {
        "colab": {
          "base_uri": "https://localhost:8080/"
        },
        "id": "e9HoaV0R7VRY",
        "outputId": "8c82298e-e725-4de9-c1b0-b6cac9a3f43a"
      },
      "execution_count": null,
      "outputs": [
        {
          "output_type": "stream",
          "name": "stdout",
          "text": [
            "0- -0.5\n",
            "0- 0.0\n",
            "0- 1.0\n",
            "1- 1.5\n",
            "Error is -1.0\n"
          ]
        }
      ]
    },
    {
      "cell_type": "markdown",
      "source": [
        "Error in OR"
      ],
      "metadata": {
        "id": "CsNDvw2x_RpS"
      }
    },
    {
      "cell_type": "code",
      "source": [
        "orlist=orOpration(inputdata)\n",
        "error=0\n",
        "for i in range(len(orOpration(inputdata))):\n",
        "  print(f\"{orlist[i]}- {output[i]}\")\n",
        "  error+=orlist[i]-output[i]\n",
        "print(f\"Error is {error}\")  "
      ],
      "metadata": {
        "colab": {
          "base_uri": "https://localhost:8080/"
        },
        "id": "ClauMAoI_TkE",
        "outputId": "5407a0ab-c5f5-41fd-b91a-ec0af8f47b32"
      },
      "execution_count": null,
      "outputs": [
        {
          "output_type": "stream",
          "name": "stdout",
          "text": [
            "0- -0.5\n",
            "1- 0.0\n",
            "1- 1.0\n",
            "1- 1.5\n",
            "Error is 1.0\n"
          ]
        }
      ]
    },
    {
      "cell_type": "markdown",
      "source": [
        "Error in XOR"
      ],
      "metadata": {
        "id": "rIpWNqroBD5U"
      }
    },
    {
      "cell_type": "code",
      "source": [
        "xorlist=xorOperation(inputdata)\n",
        "error=0\n",
        "for i in range(len(xorOperation(inputdata))):\n",
        "  print(f\"{xorlist[i]}- {output[i]}\")\n",
        "  error+=xorlist[i]-output[i]\n",
        "print(f\"Error is {error}\")  "
      ],
      "metadata": {
        "id": "Rx2jWGSn2uQQ",
        "colab": {
          "base_uri": "https://localhost:8080/"
        },
        "outputId": "f658d744-9017-42c1-9876-5c4d2fd4d1ae"
      },
      "execution_count": null,
      "outputs": [
        {
          "output_type": "stream",
          "name": "stdout",
          "text": [
            "0- -0.5\n",
            "1- 0.0\n",
            "1- 1.0\n",
            "0- 1.5\n",
            "Error is 0.0\n"
          ]
        }
      ]
    },
    {
      "cell_type": "code",
      "source": [
        "class And_operation:\n",
        "  def __init__(self):\n",
        "    w1=1.5\n",
        "    w2=0.5\n",
        "    w0 = -0.5\n",
        "    input=[[0,0],[0,1],[1,0],[1,1]]\n",
        "  def inputNeuron1(self,inputlist:list[float])->float:\n",
        "    for i in inputlist:\n",
        "      i[0]*self.w1\n",
        "\n",
        "  def inputNeuron2(self,inputlist:list[float])->float:\n",
        "    for i in inputlist:\n",
        "      i[0]*self.w1\n",
        "      \n",
        "  def outputNeuron(inputlist:list[float])->float:    "
      ],
      "metadata": {
        "id": "x5N1_tcu0Ybp"
      },
      "execution_count": null,
      "outputs": []
    },
    {
      "cell_type": "code",
      "source": [],
      "metadata": {
        "id": "MUpDC2OK1O0h"
      },
      "execution_count": null,
      "outputs": []
    }
  ]
}