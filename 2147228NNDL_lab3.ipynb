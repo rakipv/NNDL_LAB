{
  "nbformat": 4,
  "nbformat_minor": 0,
  "metadata": {
    "colab": {
      "provenance": []
    },
    "kernelspec": {
      "name": "python3",
      "display_name": "Python 3"
    },
    "language_info": {
      "name": "python"
    }
  },
  "cells": [
    {
      "cell_type": "markdown",
      "source": [
        "#1. Explore MLP classifier"
      ],
      "metadata": {
        "id": "n4oFMIDUrcIS"
      }
    },
    {
      "cell_type": "markdown",
      "source": [
        "\n",
        "\n",
        "*   A multilayer perceptron is a neural network connecting multiple layers in a directed graph, which means that the signal path through the nodes only goes one way. Each node, apart from the input nodes, has a nonlinear activation function. An MLP uses backpropagation as a supervised learning technique.\n",
        "* MLPClassifier relies on an underlying Neural Network to perform the task of classification\n",
        "* The nodes of the layers are neurons with nonlinear activation functions, except for the nodes of the input layer\n",
        "* Between the input and the output layer there may be one or more nonlinear hidden layers\n",
        "* A multilayer perceptron is a neural network connecting multiple layers in a directed graph, which means that the signal path through the nodes only goes one way\n",
        "* Each node, apart from the input nodes, has a nonlinear activation function. An MLP uses backpropagation as a supervised learning technique.\n",
        "\n"
      ],
      "metadata": {
        "id": "NS6kAvMDsb7Z"
      }
    },
    {
      "cell_type": "markdown",
      "source": [
        "#2. Give a summary of all the parameters used in MLP classifier."
      ],
      "metadata": {
        "id": "n8jEV_eps6bJ"
      }
    },
    {
      "cell_type": "code",
      "source": [],
      "metadata": {
        "id": "9Z7Ay29JtFiy"
      },
      "execution_count": null,
      "outputs": []
    },
    {
      "cell_type": "markdown",
      "source": [
        "#3. Classify an XOR problem using the multilayer perceptron Network"
      ],
      "metadata": {
        "id": "kBev67vPs_3Z"
      }
    },
    {
      "cell_type": "code",
      "source": [
        "import numpy as np\n",
        "import sklearn\n",
        "from sklearn import preprocessing\n",
        "from sklearn.neural_network import MLPClassifier"
      ],
      "metadata": {
        "id": "JfBJNvtqyLf-"
      },
      "execution_count": 13,
      "outputs": []
    },
    {
      "cell_type": "code",
      "source": [
        "input = np.array([\n",
        "    0, 0,\n",
        "    0, 1,\n",
        "    1, 0,\n",
        "    1, 1\n",
        "]).reshape(4, 2)\n",
        "print(\" input values X  and Y :\\n\",input)\n",
        "\n",
        "actual_output = np.array([0, 1, 1, 0]).reshape(4,)\n",
        "print(\" the expected output is \\n\",actual_output)\n",
        "\n",
        "\n",
        "\n"
      ],
      "metadata": {
        "id": "HlvEthFptV7p",
        "colab": {
          "base_uri": "https://localhost:8080/"
        },
        "outputId": "09493e81-9ab2-4434-ec67-1a0aca1b8f87"
      },
      "execution_count": 30,
      "outputs": [
        {
          "output_type": "stream",
          "name": "stdout",
          "text": [
            " input values X  and Y :\n",
            " [[0 0]\n",
            " [0 1]\n",
            " [1 0]\n",
            " [1 1]]\n",
            " the expected output is \n",
            " [0 1 1 0]\n"
          ]
        }
      ]
    },
    {
      "cell_type": "markdown",
      "source": [
        "#RELU ACTIVATION"
      ],
      "metadata": {
        "id": "_zkJEwMw5gE2"
      }
    },
    {
      "cell_type": "code",
      "source": [
        "model = sklearn.neural_network.MLPClassifier(\n",
        "    activation='relu', max_iter=10000, hidden_layer_sizes=(4,2))\n",
        "model.fit(input, actual_output)\n",
        "\n",
        "print('model score:', model.score(input, actual_output)) \n",
        "print('predicted output:', model.predict(input)) \n",
        "print('expected output:', np.array([0, 1, 1, 0]))"
      ],
      "metadata": {
        "colab": {
          "base_uri": "https://localhost:8080/"
        },
        "id": "eaH2OWQm1vs0",
        "outputId": "b10a3af3-0240-4d1d-ed4c-e49cf6400333"
      },
      "execution_count": 32,
      "outputs": [
        {
          "output_type": "stream",
          "name": "stdout",
          "text": [
            "model score: 1.0\n",
            "predicted output: [0 1 1 0]\n",
            "expected output: [0 1 1 0]\n"
          ]
        }
      ]
    },
    {
      "cell_type": "markdown",
      "source": [
        "#LOGISTIC ACTIVATION"
      ],
      "metadata": {
        "id": "2BJxY2P752cr"
      }
    },
    {
      "cell_type": "code",
      "source": [],
      "metadata": {
        "colab": {
          "base_uri": "https://localhost:8080/"
        },
        "id": "REONKMmI1b7k",
        "outputId": "7100ca33-7d55-40c9-86a9-58a3f565f905"
      },
      "execution_count": 33,
      "outputs": [
        {
          "output_type": "stream",
          "name": "stdout",
          "text": [
            "model score: 0.5\n",
            "predicted output: [1 1 1 1]\n",
            "expected output: [0 1 1 0]\n"
          ]
        }
      ]
    },
    {
      "cell_type": "markdown",
      "source": [
        "#TANH ACTIVATION"
      ],
      "metadata": {
        "id": "ns9o8LjO6C_9"
      }
    },
    {
      "cell_type": "code",
      "source": [
        "model = sklearn.neural_network.MLPClassifier(\n",
        "    activation='tanh', max_iter=10000, hidden_layer_sizes=(4,2))\n",
        "model.fit(input, actual_output)\n",
        "\n",
        "print('model score:', model.score(input, actual_output)) \n",
        "print('predicted output:', model.predict(input)) \n",
        "print('expected output:', np.array([0, 1, 1, 0]))"
      ],
      "metadata": {
        "colab": {
          "base_uri": "https://localhost:8080/"
        },
        "id": "VJWVeJnx1hwk",
        "outputId": "5e9ac3b5-f8eb-45b3-d01d-abeb5c2b7971"
      },
      "execution_count": 35,
      "outputs": [
        {
          "output_type": "stream",
          "name": "stdout",
          "text": [
            "model score: 1.0\n",
            "predicted output: [0 1 1 0]\n",
            "expected output: [0 1 1 0]\n"
          ]
        }
      ]
    }
  ]
}